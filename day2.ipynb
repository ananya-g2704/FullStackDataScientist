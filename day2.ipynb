{
 "cells": [
  {
   "cell_type": "code",
   "execution_count": 3,
   "id": "49e8f09d",
   "metadata": {},
   "outputs": [
    {
     "name": "stdout",
     "output_type": "stream",
     "text": [
      "Grade: A\n"
     ]
    }
   ],
   "source": [
    "marks=int(input(\"Enter marks:\"))\n",
    "if(marks>=90):\n",
    "    Grade=\"A+\"\n",
    "elif marks>80 and marks<89:\n",
    "    Grade=\"A\"\n",
    "elif marks>70 and marks<79:\n",
    "    Grade=\"B\"\n",
    "elif marks>60 and marks<69:\n",
    "    Grade=\"C\"\n",
    "elif marks<60:\n",
    "    Grade=\"Fail\"\n",
    "print(\"Grade:\",Grade)"
   ]
  },
  {
   "cell_type": "code",
   "execution_count": 6,
   "id": "47471a0b",
   "metadata": {},
   "outputs": [
    {
     "name": "stdout",
     "output_type": "stream",
     "text": [
      "Highest Marks: 90\n",
      "Lowest Marks: 45\n",
      "71.4\n"
     ]
    }
   ],
   "source": [
    "marks = [45,78,88,56,90]\n",
    "high=max(marks)\n",
    "print(\"Highest Marks:\",high)\n",
    "low=min(marks)\n",
    "print(\"Lowest Marks:\",low)\n",
    "total=sum(marks)\n",
    "avg=total/i\n",
    "print(avg)\n",
    "\n"
   ]
  },
  {
   "cell_type": "code",
   "execution_count": 8,
   "id": "a49963bd",
   "metadata": {},
   "outputs": [
    {
     "name": "stdout",
     "output_type": "stream",
     "text": [
      "Phone Number of Ravi: 9123456780\n"
     ]
    }
   ],
   "source": [
    "Phonebook = {\"Suhel\": 9876543210, \"Ravi\": 9123456780, \"Anita\": 9988776655}\n",
    "pb=Phonebook[\"Ravi\"]\n",
    "print(\"Phone Number of Ravi:\",pb)"
   ]
  },
  {
   "cell_type": "code",
   "execution_count": 9,
   "id": "a9f7fa91",
   "metadata": {},
   "outputs": [
    {
     "name": "stdout",
     "output_type": "stream",
     "text": [
      "Addition= 19\n",
      "Subtraction= 11\n",
      "Multiplication= 60\n",
      "Division= 3.75\n",
      "Modulus= 3\n"
     ]
    }
   ],
   "source": [
    "x=int(input(\"Enter first number:\"))\n",
    "y=int(input(\"Enter second number:\"))\n",
    "add=x+y\n",
    "sub=x-y\n",
    "mul=x*y\n",
    "div=x/y\n",
    "mod=x%y\n",
    "print(\"Addition=\",add)\n",
    "print(\"Subtraction=\",sub)\n",
    "print(\"Multiplication=\",mul)\n",
    "print(\"Division=\",div)\n",
    "print(\"Modulus=\",mod)\n"
   ]
  },
  {
   "cell_type": "code",
   "execution_count": null,
   "id": "a5ad7214",
   "metadata": {},
   "outputs": [
    {
     "name": "stdout",
     "output_type": "stream",
     "text": [
      "Total Bill = 100\n",
      "Total Bill = 6200\n"
     ]
    }
   ],
   "source": [
    "total = 0\n",
    "for i in range(1, 4):   \n",
    "    price = int(input(f\"Enter price of item {i}: \"))\n",
    "    qty = int(input(f\"Enter quantity of item {i}: \"))\n",
    "    total += price * qty\n",
    "    print(\"Total Bill =\", total)\n"
   ]
  },
  {
   "cell_type": "code",
   "execution_count": null,
   "id": "30b6ce52",
   "metadata": {},
   "outputs": [],
   "source": []
  }
 ],
 "metadata": {
  "kernelspec": {
   "display_name": "Python 3",
   "language": "python",
   "name": "python3"
  },
  "language_info": {
   "codemirror_mode": {
    "name": "ipython",
    "version": 3
   },
   "file_extension": ".py",
   "mimetype": "text/x-python",
   "name": "python",
   "nbconvert_exporter": "python",
   "pygments_lexer": "ipython3",
   "version": "3.11.0"
  }
 },
 "nbformat": 4,
 "nbformat_minor": 5
}
