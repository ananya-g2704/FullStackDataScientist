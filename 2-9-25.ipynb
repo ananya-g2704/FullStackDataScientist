{
 "cells": [
  {
   "cell_type": "code",
   "execution_count": 3,
   "id": "49e8f09d",
   "metadata": {},
   "outputs": [
    {
     "name": "stdout",
     "output_type": "stream",
     "text": [
      "Grade: A\n"
     ]
    }
   ],
   "source": [
    "marks=int(input(\"Enter marks:\"))\n",
    "if(marks>=90):\n",
    "    Grade=\"A+\"\n",
    "elif marks>80 and marks<89:\n",
    "    Grade=\"A\"\n",
    "elif marks>70 and marks<79:\n",
    "    Grade=\"B\"\n",
    "elif marks>60 and marks<69:\n",
    "    Grade=\"C\"\n",
    "elif marks<60:\n",
    "    Grade=\"Fail\"\n",
    "print(\"Grade:\",Grade)"
   ]
  },
  {
   "cell_type": "code",
   "execution_count": 6,
   "id": "47471a0b",
   "metadata": {},
   "outputs": [
    {
     "name": "stdout",
     "output_type": "stream",
     "text": [
      "Highest Marks: 90\n",
      "Lowest Marks: 45\n",
      "71.4\n"
     ]
    }
   ],
   "source": [
    "marks = [45,78,88,56,90]\n",
    "high=max(marks)\n",
    "print(\"Highest Marks:\",high)\n",
    "low=min(marks)\n",
    "print(\"Lowest Marks:\",low)\n",
    "total=sum(marks)\n",
    "avg=total/i\n",
    "print(avg)\n",
    "\n"
   ]
  },
  {
   "cell_type": "code",
   "execution_count": 8,
   "id": "a49963bd",
   "metadata": {},
   "outputs": [
    {
     "name": "stdout",
     "output_type": "stream",
     "text": [
      "Phone Number of Ravi: 9123456780\n"
     ]
    }
   ],
   "source": [
    "Phonebook = {\"Suhel\": 9876543210, \"Ravi\": 9123456780, \"Anita\": 9988776655}\n",
    "pb=Phonebook[\"Ravi\"]\n",
    "print(\"Phone Number of Ravi:\",pb)"
   ]
  },
  {
   "cell_type": "code",
   "execution_count": 9,
   "id": "a9f7fa91",
   "metadata": {},
   "outputs": [
    {
     "name": "stdout",
     "output_type": "stream",
     "text": [
      "Addition= 19\n",
      "Subtraction= 11\n",
      "Multiplication= 60\n",
      "Division= 3.75\n",
      "Modulus= 3\n"
     ]
    }
   ],
   "source": [
    "x=int(input(\"Enter first number:\"))\n",
    "y=int(input(\"Enter second number:\"))\n",
    "add=x+y\n",
    "sub=x-y\n",
    "mul=x*y\n",
    "div=x/y\n",
    "mod=x%y\n",
    "print(\"Addition=\",add)\n",
    "print(\"Subtraction=\",sub)\n",
    "print(\"Multiplication=\",mul)\n",
    "print(\"Division=\",div)\n",
    "print(\"Modulus=\",mod)\n"
   ]
  },
  {
   "cell_type": "code",
   "execution_count": 1,
   "id": "30b6ce52",
   "metadata": {},
   "outputs": [
    {
     "name": "stdout",
     "output_type": "stream",
     "text": [
      "Total Bill = (50*2) + (30*5) + (20*3) = 100 + 150 + 60 = 310\n"
     ]
    }
   ],
   "source": [
    "total = 0\n",
    "calculation = \"\"\n",
    "values = \"\"\n",
    "for i in range(1, 4):\n",
    "    price = int(input(f\"Enter price of item {i}: \"))\n",
    "    qty = int(input(f\"Enter quantity of item {i}: \"))\n",
    "    item_total = price * qty\n",
    "    total += item_total\n",
    "    calculation += f\"({price}*{qty}) + \"\n",
    "    values += f\"{item_total} + \"\n",
    "calculation = calculation[:-3]\n",
    "values = values[:-3]\n",
    "print(f\"Total Bill = {calculation} = {values} = {total}\")\n"
   ]
  },
  {
   "cell_type": "code",
   "execution_count": 1,
   "id": "adbf8843",
   "metadata": {},
   "outputs": [
    {
     "name": "stdout",
     "output_type": "stream",
     "text": [
      "Python is awesome\n",
      "Total Words = 3\n",
      "Total Characters = 15\n",
      "Total Vowels = 6\n"
     ]
    }
   ],
   "source": [
    "sentence = input(\"Enter sentence: \")\n",
    "words = sentence.split()\n",
    "total_words = len(words)\n",
    "total_characters = len(sentence.replace(\" \", \"\"))  \n",
    "vowels = \"aeiouAEIOU\"\n",
    "total_vowels = sum(1 for char in sentence if char in vowels)\n",
    "print(sentence)\n",
    "print(\"Total Words =\", total_words)\n",
    "print(\"Total Characters =\", total_characters)\n",
    "print(\"Total Vowels =\", total_vowels)"
   ]
  },
  {
   "cell_type": "code",
   "execution_count": 2,
   "id": "c5564794",
   "metadata": {},
   "outputs": [
    {
     "name": "stdout",
     "output_type": "stream",
     "text": [
      "Compound Interest = 512.5\n",
      "Total Amount = 5512.5\n"
     ]
    }
   ],
   "source": [
    "p = int(input(\"Principal = \"))\n",
    "r = int(input(\"Rate = \"))\n",
    "t = int(input(\"Time = \"))\n",
    "interest_type = input(\"Interest Type = \").lower()\n",
    "if interest_type == \"simple\":\n",
    "    print(\"Simple Interest =\", p*r*t/100)\n",
    "    print(\"Total Amount =\", p + p*r*t/100)\n",
    "elif interest_type == \"compound\":\n",
    "    amount = p * (1 + r/100)**t\n",
    "    print(\"Compound Interest =\", amount - p)\n",
    "    print(\"Total Amount =\", amount)\n",
    "else:\n",
    "    print(\"Invalid Interest Type\")\n"
   ]
  },
  {
   "cell_type": "code",
   "execution_count": 3,
   "id": "0154558f",
   "metadata": {},
   "outputs": [
    {
     "name": "stdout",
     "output_type": "stream",
     "text": [
      "Current Books: ['Python Basics', 'AI Fundamentals', 'Machine Learning']\n",
      "Total Books: 3\n"
     ]
    }
   ],
   "source": [
    "Books = [\"Python Basics\", \"Data Science\", \"AI Fundamentals\"]\n",
    "Books.append(\"Machine Learning\")\n",
    "Books.remove(\"Data Science\")\n",
    "print(\"Current Books:\",Books)\n",
    "print(\"Total Books:\",len(Books))\n"
   ]
  },
  {
   "cell_type": "code",
   "execution_count": 4,
   "id": "a1f1a2a5",
   "metadata": {},
   "outputs": [
    {
     "name": "stdout",
     "output_type": "stream",
     "text": [
      "PIN Verified.\n",
      "Withdrawal Successful. Remaining Balance = 3000.0\n"
     ]
    }
   ],
   "source": [
    "pin = input(\"Enter PIN: \")\n",
    "balance = float(input(\"Enter Balance: \"))\n",
    "if pin == \"1234\":\n",
    "    print(\"PIN Verified.\")\n",
    "    withdraw = float(input(\"Enter amount to withdraw: \"))\n",
    "    if withdraw <= balance:\n",
    "        balance -= withdraw\n",
    "        print(\"Withdrawal Successful. Remaining Balance =\", balance)\n",
    "    else:\n",
    "        print(\"Insufficient Balance\")\n",
    "else:\n",
    "    print(\"Incorrect PIN\")\n"
   ]
  }
 ],
 "metadata": {
  "kernelspec": {
   "display_name": "Python 3",
   "language": "python",
   "name": "python3"
  },
  "language_info": {
   "codemirror_mode": {
    "name": "ipython",
    "version": 3
   },
   "file_extension": ".py",
   "mimetype": "text/x-python",
   "name": "python",
   "nbconvert_exporter": "python",
   "pygments_lexer": "ipython3",
   "version": "3.11.0"
  }
 },
 "nbformat": 4,
 "nbformat_minor": 5
}
