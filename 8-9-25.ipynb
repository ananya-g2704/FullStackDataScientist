{
 "cells": [
  {
   "cell_type": "code",
   "execution_count": 4,
   "id": "cdb93cd0",
   "metadata": {},
   "outputs": [
    {
     "name": "stdout",
     "output_type": "stream",
     "text": [
      "2 3 5 7 11 13 17 19 "
     ]
    }
   ],
   "source": [
    "def prime(num):\n",
    "    if num < 2:\n",
    "        return False\n",
    "    for i in range(2, int(num**0.5)+1):\n",
    "        if num % i == 0:\n",
    "            return False\n",
    "    return True\n",
    "def primes(n):\n",
    "    for num in range(2, n+1):\n",
    "        if prime(num):\n",
    "            print(num, end=\" \")\n",
    "n = int(input(\"Enter n: \"))\n",
    "primes(n)\n"
   ]
  },
  {
   "cell_type": "code",
   "execution_count": 6,
   "id": "b098488a",
   "metadata": {},
   "outputs": [
    {
     "name": "stdout",
     "output_type": "stream",
     "text": [
      "True\n"
     ]
    }
   ],
   "source": [
    "def palindrome(s):\n",
    "    s=s.replace(\" \",\"\").lower()\n",
    "    return s==s[::-1]\n",
    "str=input(\"Enter string:\")\n",
    "if palindrome(str):\n",
    "    print(\"True\")\n",
    "else:\n",
    "     print(\"False\")       "
   ]
  },
  {
   "cell_type": "code",
   "execution_count": 7,
   "id": "7deca41c",
   "metadata": {},
   "outputs": [
    {
     "name": "stdout",
     "output_type": "stream",
     "text": [
      "True\n"
     ]
    }
   ],
   "source": [
    "def anagram(s1,s2):\n",
    "    s1=s1.replace(\" \",\"\").lower()\n",
    "    s2=s2.replace(\" \",\"\").lower()\n",
    "    return sorted(s1)==sorted(s2)\n",
    "str1=input(\"Enter string1:\")\n",
    "str2=input(\"Enter string2:\")\n",
    "if anagram(str1,str2):\n",
    "    print(\"True\")\n",
    "else:\n",
    "    print(\"False\")"
   ]
  },
  {
   "cell_type": "code",
   "execution_count": 10,
   "id": "db02dd70",
   "metadata": {},
   "outputs": [
    {
     "name": "stdout",
     "output_type": "stream",
     "text": [
      "Vowels= 2\n",
      "Consonants= 3\n"
     ]
    }
   ],
   "source": [
    "def count(sentence):\n",
    "    vowels = \"aeiouAEIOU\"\n",
    "    vcount = 0\n",
    "    ccount = 0\n",
    "    for char in sentence:\n",
    "        if char.isalpha():\n",
    "            if char in vowels:\n",
    "                vcount += 1\n",
    "            else:\n",
    "                ccount += 1\n",
    "    return vcount, ccount\n",
    "\n",
    "sentence = input(\"Enter a sentence: \")\n",
    "v, c = count(sentence)\n",
    "print(\"Vowels=\", v)\n",
    "print(\"Consonants=\", c)\n"
   ]
  },
  {
   "cell_type": "code",
   "execution_count": 14,
   "id": "2a22a97b",
   "metadata": {},
   "outputs": [
    {
     "name": "stdout",
     "output_type": "stream",
     "text": [
      "amazing\n"
     ]
    }
   ],
   "source": [
    "def long(sentence):\n",
    "    words=sentence.split()\n",
    "    return max(words,key=len)\n",
    "sent=input(\"Enter sentence:\")\n",
    "print(long(sent))"
   ]
  },
  {
   "cell_type": "code",
   "execution_count": 20,
   "id": "605cf60c",
   "metadata": {},
   "outputs": [
    {
     "name": "stdout",
     "output_type": "stream",
     "text": [
      "0.49999999999999994\n"
     ]
    }
   ],
   "source": [
    "import math\n",
    "exp=input(\"Enter expression:\")\n",
    "if \"sqrt\" in exp:\n",
    "    num=int(exp[5:-1])\n",
    "    print(math.sqrt(num))\n",
    "elif \"factorial\" in exp:\n",
    "    num=int(exp[5:-1])\n",
    "    print(math.factorial(num))\n",
    "elif \"sin\" in exp:\n",
    "    num=float(exp[4:-1])\n",
    "    print(math.sin(math.radians(num)))\n",
    "elif \"cos\" in exp:\n",
    "    num=float(exp[4:-1])\n",
    "    print(math.cos(math.radains(num)))\n",
    "    "
   ]
  },
  {
   "cell_type": "code",
   "execution_count": 26,
   "id": "46a2a4e8",
   "metadata": {},
   "outputs": [
    {
     "name": "stdout",
     "output_type": "stream",
     "text": [
      "85.0\n",
      "95\n",
      "80\n"
     ]
    }
   ],
   "source": [
    "'''Student Class with Average'''\n",
    "class Student:\n",
    "    def __init__(self,name,marks):\n",
    "        self.name=name\n",
    "        self.marks=marks\n",
    "    def get_average(self):\n",
    "        return sum(self.marks)/len(self.marks)\n",
    "    def add_mark(self,mark):\n",
    "        self.marks.append(mark)\n",
    "    def get_highest(self):\n",
    "        return max(self.marks)\n",
    "    def get_lowest(self):\n",
    "        return min(self.marks)\n",
    "s=Student(\"Tom\",[90,80,85])\n",
    "print(s.get_average())\n",
    "s.add_mark(95)\n",
    "print(s.get_highest())\n",
    "print(s.get_lowest())\n",
    "\n",
    "\n"
   ]
  },
  {
   "cell_type": "code",
   "execution_count": null,
   "id": "2d90198d",
   "metadata": {},
   "outputs": [],
   "source": [
    "'''Shape Area Calculator'''\n",
    "class Shape:\n",
    "    def __init__(self,name):\n",
    "        self.name=name\n",
    "\n"
   ]
  }
 ],
 "metadata": {
  "kernelspec": {
   "display_name": "Python 3",
   "language": "python",
   "name": "python3"
  },
  "language_info": {
   "codemirror_mode": {
    "name": "ipython",
    "version": 3
   },
   "file_extension": ".py",
   "mimetype": "text/x-python",
   "name": "python",
   "nbconvert_exporter": "python",
   "pygments_lexer": "ipython3",
   "version": "3.11.0"
  }
 },
 "nbformat": 4,
 "nbformat_minor": 5
}
