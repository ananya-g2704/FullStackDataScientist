{
 "cells": [
  {
   "cell_type": "code",
   "execution_count": 3,
   "id": "0004e2e0",
   "metadata": {},
   "outputs": [
    {
     "name": "stdout",
     "output_type": "stream",
     "text": [
      "Addition: 42\n",
      "subtarction: -22\n",
      "Multiplication: 320\n",
      "Division: 0.3125\n"
     ]
    }
   ],
   "source": [
    "x=int(input(\"Enter x:\"))\n",
    "y=int(input(\"Enter y:\"))\n",
    "add=x+y\n",
    "sub=x-y\n",
    "mul=x*y \n",
    "div=x/y \n",
    "print(\"Addition:\",add)\n",
    "print(\"subtarction:\",sub)\n",
    "print(\"Multiplication:\",mul)\n",
    "print(\"Division:\",div)"
   ]
  },
  {
   "cell_type": "code",
   "execution_count": 5,
   "id": "0f4fcecb",
   "metadata": {},
   "outputs": [
    {
     "name": "stdout",
     "output_type": "stream",
     "text": [
      "Weak Password\n"
     ]
    }
   ],
   "source": [
    "import re\n",
    "def is_strong_password(password):\n",
    "    if len(password) < 8:\n",
    "        return False\n",
    "    has_upper = re.search(r'[A-Z]', password)\n",
    "    has_lower = re.search(r'[a-z]', password)\n",
    "    has_digit = re.search(r'\\d', password)\n",
    "    has_special = re.search(r'[@$!%*?&]', password) \n",
    "    return all([has_upper, has_lower, has_digit, has_special])\n",
    "password = input(\"Enter a password: \")\n",
    "if is_strong_password(password):\n",
    "    print(\"Strong Password\")\n",
    "else:\n",
    "    print(\"Weak Password\")\n"
   ]
  },
  {
   "cell_type": "code",
   "execution_count": 7,
   "id": "a7ccab5a",
   "metadata": {},
   "outputs": [
    {
     "name": "stdout",
     "output_type": "stream",
     "text": [
      "In Fahrenheit: 193.28\n",
      "In Celsius: 0.0\n"
     ]
    }
   ],
   "source": [
    "c = float(input(\"Enter temperature in Celsius: \"))\n",
    "f = (c * 9/5) + 32\n",
    "print(\"In Fahrenheit:\", f)\n",
    "f = float(input(\"Enter temperature in Fahrenheit: \"))\n",
    "c = (f - 32) * 5/9\n",
    "print(\"In Celsius:\", c)\n"
   ]
  },
  {
   "cell_type": "code",
   "execution_count": 10,
   "id": "b1f78164",
   "metadata": {},
   "outputs": [
    {
     "name": "stdout",
     "output_type": "stream",
     "text": [
      "Total words: 3\n"
     ]
    }
   ],
   "source": [
    "filename = \"notes.txt\" \n",
    "file=open(filename, \"r\")\n",
    "text = file.read()\n",
    "words = text.split()\n",
    "print(\"Total words:\", len(words))\n"
   ]
  },
  {
   "cell_type": "code",
   "execution_count": 11,
   "id": "8572cb8e",
   "metadata": {},
   "outputs": [
    {
     "name": "stdout",
     "output_type": "stream",
     "text": [
      "Largest number is: 99\n"
     ]
    }
   ],
   "source": [
    "list=[80,25,56,72,99,45]\n",
    "print(\"Largest number is:\",max(list))"
   ]
  },
  {
   "cell_type": "code",
   "execution_count": 12,
   "id": "e5c4fa72",
   "metadata": {},
   "outputs": [
    {
     "name": "stdout",
     "output_type": "stream",
     "text": [
      "Simple Interest: 500.0\n"
     ]
    }
   ],
   "source": [
    "p=float(input(\"Enter principal:\"))\n",
    "t=int(input(\"Enter time period:\"))\n",
    "r=float(input(\"Enter rate of interest:\"))\n",
    "SI=(p*t*r)/100\n",
    "print(\"Simple Interest:\",SI)"
   ]
  },
  {
   "cell_type": "code",
   "execution_count": 13,
   "id": "948c8c5b",
   "metadata": {},
   "outputs": [
    {
     "name": "stdout",
     "output_type": "stream",
     "text": [
      "Duplicate names: ['Alice', 'Bob']\n"
     ]
    }
   ],
   "source": [
    "students = [\"Alice\", \"Bob\", \"Charlie\", \"Alice\", \"David\", \"Bob\", \"Eve\"]\n",
    "duplicates = []\n",
    "for name in students:\n",
    "    if students.count(name) > 1 and name not in duplicates:\n",
    "        duplicates.append(name)\n",
    "print(\"Duplicate names:\", duplicates)\n"
   ]
  },
  {
   "cell_type": "code",
   "execution_count": 15,
   "id": "1eec4a3e",
   "metadata": {},
   "outputs": [
    {
     "name": "stdout",
     "output_type": "stream",
     "text": [
      "Sum: 10\n"
     ]
    }
   ],
   "source": [
    "n=int(input(\"Enter number:\"))\n",
    "sum=0\n",
    "while(n>0):\n",
    "    r=n%10\n",
    "    sum+=r\n",
    "    n//=10\n",
    "print(\"Sum:\",sum)\n"
   ]
  },
  {
   "cell_type": "code",
   "execution_count": 16,
   "id": "fe19bbb9",
   "metadata": {},
   "outputs": [
    {
     "name": "stdout",
     "output_type": "stream",
     "text": [
      "Largest number is: 99\n",
      "Smallest number is: 25\n"
     ]
    }
   ],
   "source": [
    "list=[80,25,56,72,99,45]\n",
    "print(\"Largest number is:\",max(list))\n",
    "print(\"Smallest number is:\",min(list))"
   ]
  },
  {
   "cell_type": "code",
   "execution_count": 2,
   "id": "261a82a4",
   "metadata": {},
   "outputs": [
    {
     "data": {
      "text/plain": [
       "True"
      ]
     },
     "execution_count": 2,
     "metadata": {},
     "output_type": "execute_result"
    }
   ],
   "source": [
    "def prime(num):\n",
    "    if num < 2:\n",
    "        return False\n",
    "    for i in range(2, int(num**0.5)+1):\n",
    "        if num % i == 0:\n",
    "            return False\n",
    "    return True\n",
    "n = int(input(\"Enter n: \"))\n",
    "prime(n)\n"
   ]
  },
  {
   "cell_type": "code",
   "execution_count": 5,
   "id": "3ea9b8a0",
   "metadata": {},
   "outputs": [
    {
     "name": "stdout",
     "output_type": "stream",
     "text": [
      "Largest: 67\n"
     ]
    }
   ],
   "source": [
    "num=[]\n",
    "for i in range(1,4):\n",
    "    n=int(input(f\"Enter number {i}:\"))\n",
    "    num.append(n)\n",
    "large=max(num)\n",
    "print(\"Largest:\",large)"
   ]
  },
  {
   "cell_type": "code",
   "execution_count": 9,
   "id": "f79b893a",
   "metadata": {},
   "outputs": [
    {
     "name": "stdout",
     "output_type": "stream",
     "text": [
      "amulya : 62 %\n",
      "anitha : 56 %\n"
     ]
    }
   ],
   "source": [
    "students={ \"anu\":87,\n",
    "          \"amulya\":62,\n",
    "          \"ananya\":94,\n",
    "          \"anitha\":56\n",
    "          }\n",
    "for name, attendance in students.items():\n",
    "    if attendance < 75:\n",
    "        print(name, \":\", attendance, \"%\")\n"
   ]
  },
  {
   "cell_type": "code",
   "execution_count": 15,
   "id": "22f87bbe",
   "metadata": {},
   "outputs": [
    {
     "name": "stdout",
     "output_type": "stream",
     "text": [
      "155\n"
     ]
    }
   ],
   "source": [
    "fruits={\"Apple\":60,\n",
    "      \"Banana\":50,\n",
    "      \"Orange\":45\n",
    "}\n",
    "total=sum(fruits.values())\n",
    "print(total)\n"
   ]
  },
  {
   "cell_type": "code",
   "execution_count": 22,
   "id": "9c51e917",
   "metadata": {},
   "outputs": [
    {
     "name": "stdout",
     "output_type": "stream",
     "text": [
      "y : 1\n",
      "a : 3\n",
      "n : 1\n"
     ]
    }
   ],
   "source": [
    "str = input(\"Enter string: \")\n",
    "for char in set(str):\n",
    "    print(char, \":\", str.count(char))\n",
    "\n"
   ]
  },
  {
   "cell_type": "code",
   "execution_count": 26,
   "id": "643b6e81",
   "metadata": {},
   "outputs": [
    {
     "name": "stdout",
     "output_type": "stream",
     "text": [
      "4321\n"
     ]
    }
   ],
   "source": [
    "n=int(input(\"Enter number:\"))\n",
    "sum=0\n",
    "while(n>0):\n",
    "    r=n%10\n",
    "    sum=sum*10+r\n",
    "    n//=10\n",
    "print(sum)\n"
   ]
  },
  {
   "cell_type": "code",
   "execution_count": 32,
   "id": "9d72f1ed",
   "metadata": {},
   "outputs": [
    {
     "name": "stdout",
     "output_type": "stream",
     "text": [
      "3\n",
      "3\n",
      "1\n"
     ]
    }
   ],
   "source": [
    "list = [34, -12, 67, 0, -50, 85,-2]\n",
    "pos = 0\n",
    "neg = 0\n",
    "zero = 0\n",
    "for n in list:\n",
    "    if n > 0:\n",
    "        pos += 1\n",
    "    elif n < 0:\n",
    "        neg += 1\n",
    "    else:\n",
    "        zero += 1\n",
    "print(pos)\n",
    "print(neg)\n",
    "print(zero)\n"
   ]
  },
  {
   "cell_type": "code",
   "execution_count": 39,
   "id": "152121eb",
   "metadata": {},
   "outputs": [
    {
     "name": "stdout",
     "output_type": "stream",
     "text": [
      "division by zero\n"
     ]
    }
   ],
   "source": [
    "x=int(input(\"Enter first number:\"))\n",
    "y=int(input(\"Enter second number:\"))\n",
    "try:\n",
    "    res=x/y\n",
    "    print(res)\n",
    "except Exception as e:\n",
    "    print(e)"
   ]
  },
  {
   "cell_type": "code",
   "execution_count": 40,
   "id": "08fab93b",
   "metadata": {},
   "outputs": [
    {
     "name": "stdout",
     "output_type": "stream",
     "text": [
      "Cannot divide by zero!\n"
     ]
    }
   ],
   "source": [
    "x = int(input(\"Enter first number: \"))\n",
    "y = int(input(\"Enter second number: \"))\n",
    "try:\n",
    "    result = x / y\n",
    "    print(\"Result:\", result)\n",
    "except ValueError:\n",
    "    print(\"Invalid input! Please enter numeric values.\")\n",
    "except ZeroDivisionError:\n",
    "    print(\"Cannot divide by zero!\")\n"
   ]
  },
  {
   "cell_type": "code",
   "execution_count": 42,
   "id": "e8c3211d",
   "metadata": {},
   "outputs": [
    {
     "name": "stdout",
     "output_type": "stream",
     "text": [
      "Error: Insufficient balance!\n"
     ]
    }
   ],
   "source": [
    "balance = float(input(\"Enter Balance: \"))\n",
    "withdraw = float(input(\"Enter amount to withdraw: \"))\n",
    "try:\n",
    "    if withdraw > balance:\n",
    "        raise Exception(\"Insufficient balance!\")\n",
    "    balance -= withdraw\n",
    "    print(\"Withdrawal successful. Remaining balance:\", balance)\n",
    "except Exception as e:\n",
    "    print(\"Error:\", e)\n"
   ]
  },
  {
   "cell_type": "code",
   "execution_count": 45,
   "id": "d6b62d90",
   "metadata": {},
   "outputs": [
    {
     "name": "stdout",
     "output_type": "stream",
     "text": [
      "['Anu', 'anitha', 'srindi', 'varsha']\n"
     ]
    }
   ],
   "source": [
    "names=[\"Anu\",\"srindi\",\"varsha\",\"anitha\"]\n",
    "names.sort()\n",
    "print(names)"
   ]
  },
  {
   "cell_type": "code",
   "execution_count": null,
   "id": "8814b923",
   "metadata": {},
   "outputs": [
    {
     "name": "stdout",
     "output_type": "stream",
     "text": [
      "Total electricity bill: ₹ 15100\n"
     ]
    }
   ],
   "source": [
    "units = int(input(\"Enter units: \"))\n",
    "if units <= 100:\n",
    "    bill = units * 5\n",
    "elif units <= 200:\n",
    "    bill = 100 * 5 + (units - 100) * 7\n",
    "else:\n",
    "    bill = 100 * 5 + 100 * 7 + (units - 200) * 10\n",
    "print(\"Total electricity bill: ₹\", bill)\n"
   ]
  },
  {
   "cell_type": "code",
   "execution_count": 49,
   "id": "cbf27efa",
   "metadata": {},
   "outputs": [
    {
     "name": "stdout",
     "output_type": "stream",
     "text": [
      "Total electricity bill: ₹ 1700.0\n",
      "Bill processing finished.\n"
     ]
    }
   ],
   "source": [
    "units = float(input(\"Enter units: \"))\n",
    "try:\n",
    "    if units < 0:\n",
    "        raise ValueError(\"Units cannot be negative!\")\n",
    "    if units <= 100:\n",
    "        bill = units * 5\n",
    "    elif units <= 200:\n",
    "        bill = 100 * 5 + (units - 100) * 7\n",
    "    else:\n",
    "        bill = 100 * 5 + 100 * 7 + (units - 200) * 10\n",
    "    print(\"Total electricity bill: ₹\", bill)\n",
    "except ValueError as e:\n",
    "    print(\"Invalid input:\", e)\n",
    "finally:\n",
    "    print(\"Bill processing finished.\")\n"
   ]
  },
  {
   "cell_type": "code",
   "execution_count": 51,
   "id": "a35c781c",
   "metadata": {},
   "outputs": [
    {
     "name": "stdout",
     "output_type": "stream",
     "text": [
      "Incorrect PIN. 2 attempt(s) remaining.\n",
      "PIN accepted. Access granted.\n"
     ]
    }
   ],
   "source": [
    "correct_pin = \"1234\"  \n",
    "attempts = 3\n",
    "while attempts > 0:\n",
    "    pin = input(\"Enter your PIN: \")\n",
    "    if pin == correct_pin:\n",
    "        print(\"PIN accepted. Access granted.\")\n",
    "        break\n",
    "    else:\n",
    "        attempts -= 1\n",
    "        print(f\"Incorrect PIN. {attempts} attempt(s) remaining.\")\n",
    "else:\n",
    "    print(\"Sorry! No attempts left. Access denied.\")\n"
   ]
  },
  {
   "cell_type": "code",
   "execution_count": 55,
   "id": "d07e034f",
   "metadata": {},
   "outputs": [
    {
     "name": "stdout",
     "output_type": "stream",
     "text": [
      "True\n"
     ]
    }
   ],
   "source": [
    "with open(\"sample.txt\",\"w\") as f:\n",
    "    f.write(\"Python\")\n",
    "print(f.closed)"
   ]
  },
  {
   "cell_type": "code",
   "execution_count": 59,
   "id": "6a44cce2",
   "metadata": {},
   "outputs": [
    {
     "name": "stdout",
     "output_type": "stream",
     "text": [
      "5\n"
     ]
    }
   ],
   "source": [
    "from math import ceil\n",
    "print(ceil(4.5))"
   ]
  },
  {
   "cell_type": "code",
   "execution_count": null,
   "id": "047fd58a",
   "metadata": {},
   "outputs": [],
   "source": []
  },
  {
   "cell_type": "code",
   "execution_count": 60,
   "id": "9ebe8d6a",
   "metadata": {},
   "outputs": [
    {
     "ename": "ValueError",
     "evalue": "I/O operation on closed file.",
     "output_type": "error",
     "traceback": [
      "\u001b[31m---------------------------------------------------------------------------\u001b[39m",
      "\u001b[31mValueError\u001b[39m                                Traceback (most recent call last)",
      "\u001b[36mCell\u001b[39m\u001b[36m \u001b[39m\u001b[32mIn[60]\u001b[39m\u001b[32m, line 3\u001b[39m\n\u001b[32m      1\u001b[39m filename = \u001b[33m\"\u001b[39m\u001b[33mnotes.txt\u001b[39m\u001b[33m\"\u001b[39m \n\u001b[32m      2\u001b[39m file=\u001b[38;5;28mopen\u001b[39m(filename, \u001b[33m\"\u001b[39m\u001b[33mw\u001b[39m\u001b[33m\"\u001b[39m)\n\u001b[32m----> \u001b[39m\u001b[32m3\u001b[39m \u001b[38;5;28mprint\u001b[39m(\u001b[43mf\u001b[49m\u001b[43m.\u001b[49m\u001b[43mwrite\u001b[49m\u001b[43m(\u001b[49m\u001b[33;43m\"\u001b[39;49m\u001b[33;43mABC\u001b[39;49m\u001b[33;43m\"\u001b[39;49m\u001b[43m)\u001b[49m)\n\u001b[32m      4\u001b[39m f.close()\n",
      "\u001b[31mValueError\u001b[39m: I/O operation on closed file."
     ]
    }
   ],
   "source": [
    "filename = \"notes.txt\" \n",
    "file=open(filename, \"w\")\n",
    "print(f.write(\"ABC\"))\n",
    "f.close()"
   ]
  },
  {
   "cell_type": "code",
   "execution_count": 61,
   "id": "36d16506",
   "metadata": {},
   "outputs": [
    {
     "name": "stdout",
     "output_type": "stream",
     "text": [
      "B\n"
     ]
    }
   ],
   "source": [
    "class A:\n",
    "    def f(self):\n",
    "        return \"A\"\n",
    "class B(A):\n",
    "    def f(self):\n",
    "        return \"B\"\n",
    "obj=B()\n",
    "print(obj.f())"
   ]
  },
  {
   "cell_type": "code",
   "execution_count": 63,
   "id": "6ce201af",
   "metadata": {},
   "outputs": [
    {
     "name": "stdout",
     "output_type": "stream",
     "text": [
      "Custom\n"
     ]
    }
   ],
   "source": [
    "try:\n",
    "    raise Exception(\"Custom\")\n",
    "except Exception as e:\n",
    "    print(e)"
   ]
  },
  {
   "cell_type": "code",
   "execution_count": 64,
   "id": "9dd899bf",
   "metadata": {},
   "outputs": [
    {
     "name": "stdout",
     "output_type": "stream",
     "text": [
      "1\n"
     ]
    }
   ],
   "source": [
    "import random \n",
    "random.seed(2)\n",
    "print(random.randint(1,5))"
   ]
  },
  {
   "cell_type": "code",
   "execution_count": 68,
   "id": "695f5944",
   "metadata": {},
   "outputs": [
    {
     "name": "stdout",
     "output_type": "stream",
     "text": [
      "15\n"
     ]
    }
   ],
   "source": [
    "class A:\n",
    "    def __init__(self,x):\n",
    "        self.x=x\n",
    "    def __add__(self,other):\n",
    "        return self.x+other.x\n",
    "a1=A(5)\n",
    "a2=A(10)\n",
    "print(a1+a2)    "
   ]
  },
  {
   "cell_type": "code",
   "execution_count": 70,
   "id": "8448ffd7",
   "metadata": {},
   "outputs": [
    {
     "name": "stdout",
     "output_type": "stream",
     "text": [
      "3\n"
     ]
    }
   ],
   "source": [
    "import sys\n",
    "print(sys.version_info[0])"
   ]
  }
 ],
 "metadata": {
  "kernelspec": {
   "display_name": "Python 3",
   "language": "python",
   "name": "python3"
  },
  "language_info": {
   "codemirror_mode": {
    "name": "ipython",
    "version": 3
   },
   "file_extension": ".py",
   "mimetype": "text/x-python",
   "name": "python",
   "nbconvert_exporter": "python",
   "pygments_lexer": "ipython3",
   "version": "3.11.0"
  }
 },
 "nbformat": 4,
 "nbformat_minor": 5
}
