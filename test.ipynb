{
 "cells": [
  {
   "cell_type": "code",
   "execution_count": 29,
   "id": "50321ed6",
   "metadata": {},
   "outputs": [
    {
     "name": "stdout",
     "output_type": "stream",
     "text": [
      "\"mom\" is a palindrome.\n"
     ]
    }
   ],
   "source": [
    "s = input(\"Enter a string: \")\n",
    "s_clean = s.replace(\" \", \"\").lower()\n",
    "if s_clean == s_clean[::-1]:\n",
    "    print(f'\"{s}\" is a palindrome.')\n",
    "else:\n",
    "    print(f'\"{s}\" is not a palindrome.')\n"
   ]
  },
  {
   "cell_type": "code",
   "execution_count": null,
   "id": "2cb50b74",
   "metadata": {},
   "outputs": [],
   "source": [
    "str=input(\"Enter string:\")\n"
   ]
  },
  {
   "cell_type": "code",
   "execution_count": 28,
   "id": "eaa8de11",
   "metadata": {},
   "outputs": [
    {
     "name": "stdout",
     "output_type": "stream",
     "text": [
      "6\n"
     ]
    }
   ],
   "source": [
    "x=int(input(\"Enter the number:\"))\n",
    "f=1\n",
    "i=1\n",
    "while(i<=x):\n",
    "    f*=i\n",
    "    i+=1\n",
    "print(f)"
   ]
  },
  {
   "cell_type": "code",
   "execution_count": 26,
   "id": "c93f5f81",
   "metadata": {},
   "outputs": [
    {
     "name": "stdout",
     "output_type": "stream",
     "text": [
      "15\n",
      "30\n",
      "45\n",
      "60\n",
      "75\n",
      "90\n",
      "\n"
     ]
    }
   ],
   "source": [
    "for i in range(1,101):\n",
    "    if(i%3==0 and i%5==0):\n",
    "        print(i)\n",
    "print()"
   ]
  },
  {
   "cell_type": "code",
   "execution_count": 20,
   "id": "63b0675c",
   "metadata": {},
   "outputs": [
    {
     "name": "stdout",
     "output_type": "stream",
     "text": [
      "The highest score is: 99\n"
     ]
    }
   ],
   "source": [
    "scores = []\n",
    "for i in range(1, 6):\n",
    "    score = int(input(f\"Enter score {i}: \"))\n",
    "    scores.append(score)\n",
    "highest_score = max(scores)\n",
    "print(f\"The highest score is: {highest_score}\")\n"
   ]
  },
  {
   "cell_type": "code",
   "execution_count": 18,
   "id": "fbbc680c",
   "metadata": {},
   "outputs": [
    {
     "name": "stdout",
     "output_type": "stream",
     "text": [
      "2024 is a leap year.\n"
     ]
    }
   ],
   "source": [
    "year = int(input(\"Enter a year: \"))\n",
    "if (year % 400 == 0) or (year % 4 == 0 and year % 100 != 0):\n",
    "    print(f\"{year} is a leap year.\")\n",
    "else:\n",
    "    print(f\"{year} is not a leap year.\")\n"
   ]
  },
  {
   "cell_type": "code",
   "execution_count": 21,
   "id": "71593aea",
   "metadata": {},
   "outputs": [
    {
     "name": "stdout",
     "output_type": "stream",
     "text": [
      "4 x 1 = 4\n",
      "4 x 2 = 8\n",
      "4 x 3 = 12\n",
      "4 x 4 = 16\n",
      "4 x 5 = 20\n",
      "4 x 6 = 24\n",
      "4 x 7 = 28\n",
      "4 x 8 = 32\n",
      "4 x 9 = 36\n",
      "4 x 10 = 40\n"
     ]
    }
   ],
   "source": [
    "num = int(input(\"Enter a number: \"))\n",
    "for i in range(1, 11):\n",
    "    print(f\"{num} x {i} = {num * i}\")\n"
   ]
  },
  {
   "cell_type": "code",
   "execution_count": 12,
   "id": "4a28aa1d",
   "metadata": {},
   "outputs": [
    {
     "name": "stdout",
     "output_type": "stream",
     "text": [
      "143 is NOT an Armstrong number\n"
     ]
    }
   ],
   "source": [
    "x = input(\"Enter the number\")\n",
    "length = len(x)\n",
    "sum = 0\n",
    "for i in range(length):\n",
    "    r = int(x[i])\n",
    "    sum += sum ** length\n",
    "if sum == int(x):\n",
    "    print(x, \"is an Armstrong number\")\n",
    "else:\n",
    "    print(x, \"is NOT an Armstrong number\")\n"
   ]
  },
  {
   "cell_type": "code",
   "execution_count": 13,
   "id": "a149f399",
   "metadata": {},
   "outputs": [
    {
     "name": "stdout",
     "output_type": "stream",
     "text": [
      "Number of vowels: 3\n",
      "Number of consonants: 3\n"
     ]
    }
   ],
   "source": [
    "sentence = input(\"Enter a sentence: \")\n",
    "vowels = \"aeiouAEIOU\"\n",
    "vcount = 0\n",
    "ccount = 0\n",
    "for char in sentence:\n",
    "    if char.isalpha():  \n",
    "        if char in vowels:\n",
    "            vcount += 1\n",
    "        else:\n",
    "            ccount += 1\n",
    "print(\"Number of vowels:\", vcount)\n",
    "print(\"Number of consonants:\", ccount)\n"
   ]
  },
  {
   "cell_type": "code",
   "execution_count": 14,
   "id": "4933c8b9",
   "metadata": {},
   "outputs": [
    {
     "name": "stdout",
     "output_type": "stream",
     "text": [
      "Reversed book title: trebor\n"
     ]
    }
   ],
   "source": [
    "s = input(\"Enter the book title: \")\n",
    "rstr = \"\"\n",
    "for char in s:\n",
    "    rstr = char + rstr\n",
    "print(\"Reversed book title:\", rstr)\n"
   ]
  },
  {
   "cell_type": "code",
   "execution_count": 15,
   "id": "2b701c00",
   "metadata": {},
   "outputs": [
    {
     "name": "stdout",
     "output_type": "stream",
     "text": [
      "4\n"
     ]
    }
   ],
   "source": [
    "x = int(input(\"Enter the first number: \"))\n",
    "y = int(input(\"Enter the second number: \"))\n",
    "x = x + y\n",
    "y = x- y\n",
    "x = x - y\n",
    "print(x)\n"
   ]
  }
 ],
 "metadata": {
  "kernelspec": {
   "display_name": "Python 3",
   "language": "python",
   "name": "python3"
  },
  "language_info": {
   "codemirror_mode": {
    "name": "ipython",
    "version": 3
   },
   "file_extension": ".py",
   "mimetype": "text/x-python",
   "name": "python",
   "nbconvert_exporter": "python",
   "pygments_lexer": "ipython3",
   "version": "3.11.0"
  }
 },
 "nbformat": 4,
 "nbformat_minor": 5
}
