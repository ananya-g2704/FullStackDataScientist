{
 "cells": [
  {
   "cell_type": "code",
   "execution_count": null,
   "id": "cdb93cd0",
   "metadata": {},
   "outputs": [
    {
     "name": "stdout",
     "output_type": "stream",
     "text": [
      "2 3 5 7 11 13 17 19 "
     ]
    }
   ],
   "source": [
    "'''1. Prime Number Finder'''\n",
    "def prime(num):\n",
    "    if num < 2:\n",
    "        return False\n",
    "    for i in range(2, int(num**0.5)+1):\n",
    "        if num % i == 0:\n",
    "            return False\n",
    "    return True\n",
    "def primes(n):\n",
    "    for num in range(2, n+1):\n",
    "        if prime(num):\n",
    "            print(num, end=\" \")\n",
    "n = int(input(\"Enter n: \"))\n",
    "primes(n)\n"
   ]
  },
  {
   "cell_type": "code",
   "execution_count": null,
   "id": "b098488a",
   "metadata": {},
   "outputs": [
    {
     "name": "stdout",
     "output_type": "stream",
     "text": [
      "True\n"
     ]
    }
   ],
   "source": [
    "''' 2. Palindrome Checker\n",
    "''' \n",
    "def palindrome(s):\n",
    "    s=s.replace(\" \",\"\").lower()\n",
    "    return s==s[::-1]\n",
    "str=input(\"Enter string:\")\n",
    "if palindrome(str):\n",
    "    print(\"True\")\n",
    "else:\n",
    "     print(\"False\")       "
   ]
  },
  {
   "cell_type": "code",
   "execution_count": null,
   "id": "7deca41c",
   "metadata": {},
   "outputs": [
    {
     "name": "stdout",
     "output_type": "stream",
     "text": [
      "True\n"
     ]
    }
   ],
   "source": [
    "''' 3. Anagram Checker'''\n",
    "def anagram(s1,s2):\n",
    "    s1=s1.replace(\" \",\"\").lower()\n",
    "    s2=s2.replace(\" \",\"\").lower()\n",
    "    return sorted(s1)==sorted(s2)\n",
    "str1=input(\"Enter string1:\")\n",
    "str2=input(\"Enter string2:\")\n",
    "if anagram(str1,str2):\n",
    "    print(\"True\")\n",
    "else:\n",
    "    print(\"False\")"
   ]
  },
  {
   "cell_type": "code",
   "execution_count": null,
   "id": "db02dd70",
   "metadata": {},
   "outputs": [
    {
     "name": "stdout",
     "output_type": "stream",
     "text": [
      "Vowels= 2\n",
      "Consonants= 3\n"
     ]
    }
   ],
   "source": [
    "''' 4. Count Vowels & Consonants\n",
    "'''\n",
    "def count(sentence):\n",
    "    vowels = \"aeiouAEIOU\"\n",
    "    vcount = 0\n",
    "    ccount = 0\n",
    "    for char in sentence:\n",
    "        if char.isalpha():\n",
    "            if char in vowels:\n",
    "                vcount += 1\n",
    "            else:\n",
    "                ccount += 1\n",
    "    return vcount, ccount\n",
    "\n",
    "sentence = input(\"Enter a sentence: \")\n",
    "v, c = count(sentence)\n",
    "print(\"Vowels=\", v)\n",
    "print(\"Consonants=\", c)\n"
   ]
  },
  {
   "cell_type": "code",
   "execution_count": null,
   "id": "2a22a97b",
   "metadata": {},
   "outputs": [
    {
     "name": "stdout",
     "output_type": "stream",
     "text": [
      "amazing\n"
     ]
    }
   ],
   "source": [
    "'''5. Longest Word Finder'''\n",
    "def long(sentence):\n",
    "    words=sentence.split()\n",
    "    return max(words,key=len)\n",
    "sent=input(\"Enter sentence:\")\n",
    "print(long(sent))"
   ]
  },
  {
   "cell_type": "code",
   "execution_count": null,
   "id": "605cf60c",
   "metadata": {},
   "outputs": [
    {
     "name": "stdout",
     "output_type": "stream",
     "text": [
      "0.49999999999999994\n"
     ]
    }
   ],
   "source": [
    "'''2. Simple Calculator with `math` '''\n",
    "import math\n",
    "exp=input(\"Enter expression:\")\n",
    "if \"sqrt\" in exp:\n",
    "    num=int(exp[5:-1])\n",
    "    print(math.sqrt(num))\n",
    "elif \"factorial\" in exp:\n",
    "    num=int(exp[5:-1])\n",
    "    print(math.factorial(num))\n",
    "elif \"sin\" in exp:\n",
    "    num=float(exp[4:-1])\n",
    "    print(math.sin(math.radians(num)))\n",
    "elif \"cos\" in exp:\n",
    "    num=float(exp[4:-1])\n",
    "    print(math.cos(math.radains(num)))\n",
    "    "
   ]
  },
  {
   "cell_type": "code",
   "execution_count": 26,
   "id": "46a2a4e8",
   "metadata": {},
   "outputs": [
    {
     "name": "stdout",
     "output_type": "stream",
     "text": [
      "85.0\n",
      "95\n",
      "80\n"
     ]
    }
   ],
   "source": [
    "'''Student Class with Average'''\n",
    "class Student:\n",
    "    def __init__(self,name,marks):\n",
    "        self.name=name\n",
    "        self.marks=marks\n",
    "    def get_average(self):\n",
    "        return sum(self.marks)/len(self.marks)\n",
    "    def add_mark(self,mark):\n",
    "        self.marks.append(mark)\n",
    "    def get_highest(self):\n",
    "        return max(self.marks)\n",
    "    def get_lowest(self):\n",
    "        return min(self.marks)\n",
    "s=Student(\"Tom\",[90,80,85])\n",
    "print(s.get_average())\n",
    "s.add_mark(95)\n",
    "print(s.get_highest())\n",
    "print(s.get_lowest())\n",
    "\n",
    "\n"
   ]
  },
  {
   "cell_type": "code",
   "execution_count": 9,
   "id": "2d90198d",
   "metadata": {},
   "outputs": [
    {
     "name": "stdout",
     "output_type": "stream",
     "text": [
      "153.94\n",
      "20\n"
     ]
    }
   ],
   "source": [
    "'''Shape Area Calculator'''\n",
    "import math\n",
    "class Shape:\n",
    "    def __init__(self,name):\n",
    "        self.name=name\n",
    "    def area(Self):\n",
    "        pass\n",
    "class Circle(Shape):\n",
    "    def __init__(self, radius):\n",
    "        super().__init__(\"Circle\")\n",
    "        self.radius=radius\n",
    "    def area(self):\n",
    "        return round(math.pi*self.radius**2,2)\n",
    "class Rectangle(Shape):\n",
    "    def __init__(self, width,height):\n",
    "        super().__init__(\"Rectangle\")\n",
    "        self.width=width\n",
    "        self.height=height\n",
    "    def area(self):\n",
    "        return self.width*self.height\n",
    "c=Circle(7)\n",
    "print(c.area())\n",
    "r=Rectangle(4,5)\n",
    "print(r.area())\n",
    "\n",
    "\n"
   ]
  },
  {
   "cell_type": "code",
   "execution_count": null,
   "id": "6019e2b7",
   "metadata": {},
   "outputs": [
    {
     "name": "stdout",
     "output_type": "stream",
     "text": [
      "Random Password: 94<TO*\n"
     ]
    }
   ],
   "source": [
    "'''1. Random Password Generator (`random`, `string`)'''\n",
    "import random\n",
    "import string\n",
    "length = int(input(\"Enter password length: \"))\n",
    "chars = string.ascii_letters + string.digits + string.punctuation\n",
    "password = \"\".join(random.choice(chars) for _ in range(length))\n",
    "print(\"Random Password:\", password)\n"
   ]
  },
  {
   "cell_type": "code",
   "execution_count": null,
   "id": "1f866379",
   "metadata": {},
   "outputs": [
    {
     "name": "stdout",
     "output_type": "stream",
     "text": [
      "{'cat': 2, 'dog': 1}\n"
     ]
    }
   ],
   "source": [
    "'''3. Word Frequency Counter (`collections.Counter`)'''\n",
    "from collections import Counter\n",
    "text = input(\"Enter a sentence: \")\n",
    "words = text.split()\n",
    "freq = Counter(words)\n",
    "print(dict(freq))\n"
   ]
  },
  {
   "cell_type": "code",
   "execution_count": null,
   "id": "b9ec9eed",
   "metadata": {},
   "outputs": [
    {
     "name": "stdout",
     "output_type": "stream",
     "text": [
      "Weather: Sunny, Temp: -2°C\n"
     ]
    }
   ],
   "source": [
    "'''4. Weather Simulator (`random`) '''\n",
    "import random\n",
    "weather_conditions = [\"Sunny\", \"Cloudy\", \"Rainy\", \"Windy\", \"Snowy\"]\n",
    "temperature = random.randint(-10, 40)  \n",
    "weather = random.choice(weather_conditions)\n",
    "print(f\"Weather: {weather}, Temp: {temperature}°C\")\n"
   ]
  },
  {
   "cell_type": "code",
   "execution_count": null,
   "id": "6c0d53a8",
   "metadata": {},
   "outputs": [
    {
     "name": "stdout",
     "output_type": "stream",
     "text": [
      "5\n",
      "4\n",
      "3\n",
      "2\n",
      "1\n",
      "Time's up!\n"
     ]
    }
   ],
   "source": [
    "''' 5. Timer Program (`time`)'''\n",
    "import time\n",
    "def countdown(seconds):\n",
    "    while seconds > 0:\n",
    "        print(seconds)\n",
    "        time.sleep(1)\n",
    "        seconds -= 1\n",
    "    print(\"Time's up!\")\n",
    "countdown(5)\n"
   ]
  },
  {
   "cell_type": "code",
   "execution_count": null,
   "id": "27fec06a",
   "metadata": {},
   "outputs": [
    {
     "name": "stdout",
     "output_type": "stream",
     "text": [
      "Balance: 120\n"
     ]
    }
   ],
   "source": [
    "''' 1. Bank Account Class'''\n",
    "class BankAccount:\n",
    "    def __init__(self, balance, owner=None):\n",
    "        self.balance = balance\n",
    "        self.owner = owner\n",
    "    def deposit(self, amount):\n",
    "        self.balance += amount\n",
    "    def withdraw(self, amount):\n",
    "        if amount <= self.balance:\n",
    "            self.balance -= amount\n",
    "        else:\n",
    "            print(\"Insufficient Balance\")\n",
    "    def get_balance(self):\n",
    "        return self.balance\n",
    "acc = BankAccount(100)   \n",
    "acc.deposit(50)          \n",
    "acc.withdraw(30)         \n",
    "print(\"Balance:\", acc.get_balance())\n"
   ]
  },
  {
   "cell_type": "code",
   "execution_count": null,
   "id": "7bab6923",
   "metadata": {},
   "outputs": [
    {
     "name": "stdout",
     "output_type": "stream",
     "text": [
      "10000.0\n"
     ]
    }
   ],
   "source": [
    "'''3. Employee Bonus System'''\n",
    "class Employee:\n",
    "    def __init__(self, name, salary):\n",
    "        self.name = name\n",
    "        self.salary = salary\n",
    "    def bonus(self):\n",
    "        return 0\n",
    "class Manager(Employee):\n",
    "    def bonus(self):\n",
    "        return self.salary * 0.20\n",
    "class Developer(Employee):\n",
    "    def bonus(self):\n",
    "        return self.salary * 0.10\n",
    "class Intern(Employee):\n",
    "    def bonus(self):\n",
    "        return self.salary * 0.05\n",
    "m = Manager(\"Alice\", 50000)\n",
    "print(m.bonus()) \n"
   ]
  },
  {
   "cell_type": "code",
   "execution_count": 12,
   "id": "7b858b50",
   "metadata": {},
   "outputs": [
    {
     "name": "stdout",
     "output_type": "stream",
     "text": [
      "Shirt:500\n",
      "Shoes:1500\n",
      "Total= 2000\n"
     ]
    }
   ],
   "source": [
    "'''5. E-commerce Order Class'''\n",
    "class Order:\n",
    "    def __init__(self):\n",
    "        self.items={}\n",
    "    def add(self,item,price):\n",
    "        self.items[item]=price\n",
    "    def remove(self,item):\n",
    "        if item in self.items:\n",
    "            del self.items[item]\n",
    "        else:\n",
    "            print(f\"{item} not found in order\")\n",
    "    def calculate_total(self):\n",
    "        return sum(self.items.values())\n",
    "    def show_items(self):\n",
    "        for item,price in self.items.items():\n",
    "            print(f\"{item}:{price}\")\n",
    "order=Order()\n",
    "order.add(\"Shirt\",500)\n",
    "order.add(\"Shoes\",1500)\n",
    "order.show_items()\n",
    "print(\"Total=\",order.calculate_total())"
   ]
  },
  {
   "cell_type": "code",
   "execution_count": 13,
   "id": "a5c718fc",
   "metadata": {},
   "outputs": [
    {
     "name": "stdout",
     "output_type": "stream",
     "text": [
      "[0, 1, 1, 2, 3, 5, 8]\n"
     ]
    }
   ],
   "source": [
    "''' ## Python Functions (5 challenges)\n",
    "1. Fibonacci Generator'''\n",
    "def fib(n):\n",
    "    if n <= 1:\n",
    "        return n\n",
    "    return fib(n-1) + fib(n-2)\n",
    "def fibonacci(n):\n",
    "    return [fib(i) for i in range(n)]\n",
    "n = int(input(\"Enter n: \"))\n",
    "print(fibonacci(n))\n",
    "\n"
   ]
  },
  {
   "cell_type": "code",
   "execution_count": 18,
   "id": "360330b7",
   "metadata": {},
   "outputs": [
    {
     "name": "stdout",
     "output_type": "stream",
     "text": [
      "120\n"
     ]
    }
   ],
   "source": [
    "\n",
    "''' 2. Factorial Using Recursion'''\n",
    "def fact(n):\n",
    "    if n == 0 or n == 1:\n",
    "        return 1\n",
    "    else:\n",
    "        return n * fact(n-1)\n",
    "print(fact(5))  \n"
   ]
  },
  {
   "cell_type": "code",
   "execution_count": 19,
   "id": "bfa57151",
   "metadata": {},
   "outputs": [
    {
     "name": "stdout",
     "output_type": "stream",
     "text": [
      "{'apple': 2, 'banana': 2, 'orange': 1}\n"
     ]
    }
   ],
   "source": [
    "''' 3. Unique Words Counter''' \n",
    "from collections import Counter\n",
    "def unique_words(sentence):\n",
    "    words = sentence.split()\n",
    "    return dict(Counter(words))\n",
    "text = \"apple banana apple orange banana\"\n",
    "print(unique_words(text))\n"
   ]
  },
  {
   "cell_type": "code",
   "execution_count": 20,
   "id": "330f122e",
   "metadata": {},
   "outputs": [
    {
     "name": "stdout",
     "output_type": "stream",
     "text": [
      "Grade:A\n"
     ]
    }
   ],
   "source": [
    "''' 4. Grade Calculator'''\n",
    "def calc(marks):\n",
    "    avg=sum(marks)/len(marks)\n",
    "    if avg>=90:\n",
    "        return \"Grade:A+\"\n",
    "    elif avg>=80:\n",
    "        return \"Grade:A\"\n",
    "    elif avg>=70:\n",
    "        return \"Grade:B\"\n",
    "    elif avg>=60:\n",
    "        return \"Grade:C\"\n",
    "    else:\n",
    "        return \"Grade:F\"\n",
    "marks=[85,90,78]\n",
    "print(calc(marks))"
   ]
  },
  {
   "cell_type": "code",
   "execution_count": 24,
   "id": "36be226f",
   "metadata": {},
   "outputs": [
    {
     "name": "stdout",
     "output_type": "stream",
     "text": [
      "Second largest: 10\n"
     ]
    }
   ],
   "source": [
    "''' 5. Second Largest Number'''\n",
    "def second_large(arr):\n",
    "    if len(arr) < 2:\n",
    "        return None\n",
    "    f = s = float('-inf')\n",
    "    for i in arr:\n",
    "        if i > f:\n",
    "            s = f\n",
    "            f = i\n",
    "        elif f > i > s:\n",
    "            s = i\n",
    "    return None if s == float('-inf') else s\n",
    "arr = list(map(int, input(\"Enter List: \").split()))\n",
    "result = second_large(arr)\n",
    "if result is None:\n",
    "    print(\"No Second largest found\")\n",
    "else:\n",
    "    print(\"Second largest:\", result)\n"
   ]
  },
  {
   "cell_type": "code",
   "execution_count": 26,
   "id": "69bfe1f1",
   "metadata": {},
   "outputs": [
    {
     "name": "stdout",
     "output_type": "stream",
     "text": [
      "Text files: 2\n",
      "Python files: 2\n"
     ]
    }
   ],
   "source": [
    "''' 1. `os` → Count Files by Extension'''\n",
    "import os\n",
    "def count_files():\n",
    "    txt_count = py_count = 0\n",
    "    for file in os.listdir():   \n",
    "        if file.endswith(\".txt\"):\n",
    "            txt_count += 1\n",
    "        elif file.endswith(\".py\"):\n",
    "            py_count += 1\n",
    "    print(\"Text files:\", txt_count)\n",
    "    print(\"Python files:\", py_count)\n",
    "count_files()\n"
   ]
  },
  {
   "cell_type": "code",
   "execution_count": 27,
   "id": "cc11800e",
   "metadata": {},
   "outputs": [
    {
     "name": "stdout",
     "output_type": "stream",
     "text": [
      "Mean = 87.86\n",
      "Median = 90\n",
      "Variance = 73.81\n"
     ]
    }
   ],
   "source": [
    "''' 2. `statistics` → Exam Score Analysis'''\n",
    "import statistics as stats\n",
    "scores = [75, 80, 90, 100, 85, 90, 95]\n",
    "mean = stats.mean(scores)\n",
    "median = stats.median(scores)\n",
    "variance = stats.variance(scores)\n",
    "print(\"Mean =\", round(mean, 2))\n",
    "print(\"Median =\", median)\n",
    "print(\"Variance =\", round(variance, 2))\n"
   ]
  },
  {
   "cell_type": "code",
   "execution_count": 28,
   "id": "590040c3",
   "metadata": {},
   "outputs": [
    {
     "name": "stdout",
     "output_type": "stream",
     "text": [
      "Roots are: 2.0 and 1.0\n"
     ]
    }
   ],
   "source": [
    "''' 3. `math` → Quadratic Equation Solver'''\n",
    "import math\n",
    "def solve_quadratic(a, b, c):\n",
    "    d = b**2 - 4*a*c  \n",
    "    if d < 0:\n",
    "        return \"No Real Roots\"\n",
    "    elif d == 0:\n",
    "        root = -b / (2*a)\n",
    "        return f\"Root is: {root}\"\n",
    "    else:\n",
    "        root1 = (-b + math.sqrt(d)) / (2*a)\n",
    "        root2 = (-b - math.sqrt(d)) / (2*a)\n",
    "        return f\"Roots are: {root1} and {root2}\"\n",
    "print(solve_quadratic(1, -3, 2))\n"
   ]
  },
  {
   "cell_type": "code",
   "execution_count": 31,
   "id": "1fc803be",
   "metadata": {},
   "outputs": [
    {
     "name": "stdout",
     "output_type": "stream",
     "text": [
      "You chose Paper, Computer chose Paper\n",
      "It's a Tie!\n"
     ]
    }
   ],
   "source": [
    "''' 4. `random` → Rock Paper Scissors Game'''\n",
    "import random\n",
    "def rps_game():\n",
    "    choices = [\"Rock\", \"Paper\", \"Scissors\"]\n",
    "    user = input(\"Enter Rock, Paper, or Scissors: \").capitalize()\n",
    "    if user not in choices:\n",
    "        print(\"Invalid choice!\")\n",
    "        return\n",
    "    computer = random.choice(choices)\n",
    "    print(f\"You chose {user}, Computer chose {computer}\")\n",
    "    if user == computer:\n",
    "        print(\"It's a Tie!\")\n",
    "    elif (user == \"Rock\" and computer == \"Scissors\") or \\\n",
    "         (user == \"Paper\" and computer == \"Rock\") or \\\n",
    "         (user == \"Scissors\" and computer == \"Paper\"):\n",
    "        print(\"You Win!\")\n",
    "    else:\n",
    "        print(\"You Lose!\")\n",
    "rps_game()\n"
   ]
  },
  {
   "cell_type": "code",
   "execution_count": null,
   "id": "bf6c02ad",
   "metadata": {},
   "outputs": [],
   "source": [
    "''' `sys` → Sum from Command Line'''\n"
   ]
  },
  {
   "cell_type": "code",
   "execution_count": 32,
   "id": "48404729",
   "metadata": {},
   "outputs": [
    {
     "name": "stdout",
     "output_type": "stream",
     "text": [
      "You borrowed Python 101\n",
      "You returned Python 101\n",
      "Available books: {'Python 101': 3, 'Data Science': 2}\n"
     ]
    }
   ],
   "source": [
    "''' 1. Library System''' \n",
    "class Library:\n",
    "    def __init__(self, books):\n",
    "        self.books = books\n",
    "    def borrow(self, title):\n",
    "        if title in self.books and self.books[title] > 0:\n",
    "            self.books[title] -= 1\n",
    "            return f\"You borrowed {title}\"\n",
    "        else:\n",
    "            return f\"{title} is not available\"\n",
    "    def return_book(self, title):\n",
    "        if title in self.books:\n",
    "            self.books[title] += 1\n",
    "        else:\n",
    "            self.books[title] = 1\n",
    "        return f\"You returned {title}\"\n",
    "    def show_books(self):\n",
    "        print(\"Available books:\", self.books)\n",
    "lib = Library({\"Python 101\": 3, \"Data Science\": 2})\n",
    "print(lib.borrow(\"Python 101\"))\n",
    "print(lib.return_book(\"Python 101\"))\n",
    "lib.show_books()\n"
   ]
  },
  {
   "cell_type": "code",
   "execution_count": 33,
   "id": "0b320f11",
   "metadata": {},
   "outputs": [
    {
     "name": "stdout",
     "output_type": "stream",
     "text": [
      "Access Granted\n",
      "Deposited 200\n",
      "Withdrew 100\n",
      "Balance: 600\n"
     ]
    }
   ],
   "source": [
    "''' 2. ATM Machine with PIN''' \n",
    "class ATM:\n",
    "    def __init__(self, pin, balance=0):\n",
    "        self.pin = pin\n",
    "        self.balance = balance\n",
    "        self.is_authenticated = False\n",
    "    def login(self, entered_pin):\n",
    "        if entered_pin == self.pin:\n",
    "            self.is_authenticated = True\n",
    "            return \"Access Granted\"\n",
    "        else:\n",
    "            return \"Access Denied\"\n",
    "    def check_balance(self):\n",
    "        if self.is_authenticated:\n",
    "            return f\"Balance: {self.balance}\"\n",
    "        else:\n",
    "            return \"Please login first\"\n",
    "    def deposit(self, amount):\n",
    "        if self.is_authenticated:\n",
    "            self.balance += amount\n",
    "            return f\"Deposited {amount}\"\n",
    "        else:\n",
    "            return \"Please login first\"\n",
    "    def withdraw(self, amount):\n",
    "        if self.is_authenticated:\n",
    "            if amount <= self.balance:\n",
    "                self.balance -= amount\n",
    "                return f\"Withdrew {amount}\"\n",
    "            else:\n",
    "                return \"Insufficient Balance\"\n",
    "        else:\n",
    "            return \"Please login first\"\n",
    "atm = ATM(1234, 500)\n",
    "print(atm.login(1234))\n",
    "print(atm.deposit(200))\n",
    "print(atm.withdraw(100))\n",
    "print(atm.check_balance())"
   ]
  },
  {
   "cell_type": "code",
   "execution_count": 34,
   "id": "a98407de",
   "metadata": {},
   "outputs": [
    {
     "name": "stdout",
     "output_type": "stream",
     "text": [
      "Dr. Smith is teaching Python\n",
      "Alice enrolled in Python\n",
      "Dr. Smith assigned: Project 1\n",
      "Alice submitted: Project 1\n"
     ]
    }
   ],
   "source": [
    "''' 3. University System'''\n",
    "class Professor:\n",
    "    def __init__(self, name, subject):\n",
    "        self.name = name\n",
    "        self.subject = subject\n",
    "    def teach(self, course):\n",
    "        return f\"{self.name} is teaching {course}\"\n",
    "    def give_assignment(self, task):\n",
    "        return f\"{self.name} assigned: {task}\"\n",
    "class Student:\n",
    "    def __init__(self, name):\n",
    "        self.name = name\n",
    "        self.courses = []\n",
    "        self.assignments = []\n",
    "    def enroll(self, course):\n",
    "        self.courses.append(course)\n",
    "        return f\"{self.name} enrolled in {course}\"\n",
    "    def submit_assignment(self, task):\n",
    "        self.assignments.append(task)\n",
    "        return f\"{self.name} submitted: {task}\"\n",
    "prof = Professor(\"Dr. Smith\", \"Computer Science\")\n",
    "stud = Student(\"Alice\")\n",
    "print(prof.teach(\"Python\"))\n",
    "print(stud.enroll(\"Python\"))\n",
    "print(prof.give_assignment(\"Project 1\"))\n",
    "print(stud.submit_assignment(\"Project 1\"))\n"
   ]
  },
  {
   "cell_type": "code",
   "execution_count": 35,
   "id": "4f55c1b7",
   "metadata": {},
   "outputs": [
    {
     "name": "stdout",
     "output_type": "stream",
     "text": [
      "Booked 2 tickets for Avatar\n",
      "Cancelled 1 ticket for Avatar\n",
      "Movies: {'Avatar': 9, 'Batman': 5}\n"
     ]
    }
   ],
   "source": [
    "''' 4.Movie Ticket Booking'''\n",
    "class Cinema:\n",
    "    def __init__(self, movies):\n",
    "        self.movies = movies\n",
    "    def book(self, movie, seats):\n",
    "        if movie in self.movies:\n",
    "            if seats <= self.movies[movie]:\n",
    "                self.movies[movie] -= seats\n",
    "                return f\"Booked {seats} tickets for {movie}\"\n",
    "            else:\n",
    "                return f\"Not enough seats for {movie}\"\n",
    "        else:\n",
    "            return f\"{movie} not available\"\n",
    "    def cancel(self, movie, seats):\n",
    "        if movie in self.movies:\n",
    "            self.movies[movie] += seats\n",
    "            return f\"Cancelled {seats} ticket{'s' if seats>1 else ''} for {movie}\"\n",
    "        else:\n",
    "            return f\"{movie} not available\"\n",
    "    def show_movies(self):\n",
    "        print(\"Movies:\", self.movies)\n",
    "cinema = Cinema({\"Avatar\": 10, \"Batman\": 5})\n",
    "print(cinema.book(\"Avatar\", 2))\n",
    "print(cinema.cancel(\"Avatar\", 1))\n",
    "cinema.show_movies()\n"
   ]
  },
  {
   "cell_type": "code",
   "execution_count": 36,
   "id": "a724304d",
   "metadata": {},
   "outputs": [
    {
     "name": "stdout",
     "output_type": "stream",
     "text": [
      "Burger added\n",
      "Pizza added\n",
      "Pizza price updated to 250\n",
      "Burger removed\n",
      "Menu: {'Pizza': 250}\n"
     ]
    }
   ],
   "source": [
    "''' 5. Restaurant Menu'''\n",
    "class Menu:\n",
    "    def __init__(self):\n",
    "        self.items = {}\n",
    "    def add_item(self, name, price):\n",
    "        self.items[name] = price\n",
    "        return f\"{name} added\"\n",
    "    def remove_item(self, name):\n",
    "        if name in self.items:\n",
    "            del self.items[name]\n",
    "            return f\"{name} removed\"\n",
    "        else:\n",
    "            return f\"{name} not found\"\n",
    "    def update_price(self, name, new_price):\n",
    "        if name in self.items:\n",
    "            self.items[name] = new_price\n",
    "            return f\"{name} price updated to {new_price}\"\n",
    "        else:\n",
    "            return f\"{name} not found\"\n",
    "    def show_menu(self):\n",
    "        print(\"Menu:\", self.items)\n",
    "menu = Menu()\n",
    "print(menu.add_item(\"Burger\", 100))\n",
    "print(menu.add_item(\"Pizza\", 200))\n",
    "print(menu.update_price(\"Pizza\", 250))\n",
    "print(menu.remove_item(\"Burger\"))\n",
    "menu.show_menu()\n"
   ]
  }
 ],
 "metadata": {
  "kernelspec": {
   "display_name": "Python 3",
   "language": "python",
   "name": "python3"
  },
  "language_info": {
   "codemirror_mode": {
    "name": "ipython",
    "version": 3
   },
   "file_extension": ".py",
   "mimetype": "text/x-python",
   "name": "python",
   "nbconvert_exporter": "python",
   "pygments_lexer": "ipython3",
   "version": "3.11.0"
  }
 },
 "nbformat": 4,
 "nbformat_minor": 5
}
